{
 "cells": [
  {
   "cell_type": "markdown",
   "metadata": {
    "toc": true
   },
   "source": [
    "<h1>Table of Contents<span class=\"tocSkip\"></span></h1>\n",
    "<div class=\"toc\"><ul class=\"toc-item\"><li><ul class=\"toc-item\"><li><span><a href=\"#Casting\" data-toc-modified-id=\"Casting-0.1\"><span class=\"toc-item-num\">0.1&nbsp;&nbsp;</span>Casting</a></span></li><li><span><a href=\"#Many-values-to-multiple-variables\" data-toc-modified-id=\"Many-values-to-multiple-variables-0.2\"><span class=\"toc-item-num\">0.2&nbsp;&nbsp;</span>Many values to multiple variables</a></span></li><li><span><a href=\"#One-value-to-multiple-variables\" data-toc-modified-id=\"One-value-to-multiple-variables-0.3\"><span class=\"toc-item-num\">0.3&nbsp;&nbsp;</span>One value to multiple variables</a></span></li><li><span><a href=\"#Unpack-a-collection\" data-toc-modified-id=\"Unpack-a-collection-0.4\"><span class=\"toc-item-num\">0.4&nbsp;&nbsp;</span>Unpack a collection</a></span></li><li><span><a href=\"#Unpack-a-tuple\" data-toc-modified-id=\"Unpack-a-tuple-0.5\"><span class=\"toc-item-num\">0.5&nbsp;&nbsp;</span>Unpack a tuple</a></span></li><li><span><a href=\"#Output-variables\" data-toc-modified-id=\"Output-variables-0.6\"><span class=\"toc-item-num\">0.6&nbsp;&nbsp;</span>Output variables</a></span></li><li><span><a href=\"#Global-variables\" data-toc-modified-id=\"Global-variables-0.7\"><span class=\"toc-item-num\">0.7&nbsp;&nbsp;</span>Global variables</a></span></li><li><span><a href=\"#Assign-Global-Keyword-inside-of-a-function\" data-toc-modified-id=\"Assign-Global-Keyword-inside-of-a-function-0.8\"><span class=\"toc-item-num\">0.8&nbsp;&nbsp;</span>Assign Global Keyword inside of a function</a></span></li><li><span><a href=\"#Python-Data-Types\" data-toc-modified-id=\"Python-Data-Types-0.9\"><span class=\"toc-item-num\">0.9&nbsp;&nbsp;</span>Python Data Types</a></span></li><li><span><a href=\"#Python-numbers\" data-toc-modified-id=\"Python-numbers-0.10\"><span class=\"toc-item-num\">0.10&nbsp;&nbsp;</span>Python numbers</a></span></li><li><span><a href=\"#Casting\" data-toc-modified-id=\"Casting-0.11\"><span class=\"toc-item-num\">0.11&nbsp;&nbsp;</span>Casting</a></span><ul class=\"toc-item\"><li><span><a href=\"#Integers\" data-toc-modified-id=\"Integers-0.11.1\"><span class=\"toc-item-num\">0.11.1&nbsp;&nbsp;</span>Integers</a></span></li><li><span><a href=\"#Floats\" data-toc-modified-id=\"Floats-0.11.2\"><span class=\"toc-item-num\">0.11.2&nbsp;&nbsp;</span>Floats</a></span></li><li><span><a href=\"#Strings\" data-toc-modified-id=\"Strings-0.11.3\"><span class=\"toc-item-num\">0.11.3&nbsp;&nbsp;</span>Strings</a></span></li></ul></li><li><span><a href=\"#Strings\" data-toc-modified-id=\"Strings-0.12\"><span class=\"toc-item-num\">0.12&nbsp;&nbsp;</span>Strings</a></span></li><li><span><a href=\"#Strings-are-arrays\" data-toc-modified-id=\"Strings-are-arrays-0.13\"><span class=\"toc-item-num\">0.13&nbsp;&nbsp;</span>Strings are arrays</a></span></li><li><span><a href=\"#Check-string\" data-toc-modified-id=\"Check-string-0.14\"><span class=\"toc-item-num\">0.14&nbsp;&nbsp;</span>Check string</a></span></li><li><span><a href=\"#Slicing-strings\" data-toc-modified-id=\"Slicing-strings-0.15\"><span class=\"toc-item-num\">0.15&nbsp;&nbsp;</span>Slicing strings</a></span><ul class=\"toc-item\"><li><span><a href=\"#Slice-by-index\" data-toc-modified-id=\"Slice-by-index-0.15.1\"><span class=\"toc-item-num\">0.15.1&nbsp;&nbsp;</span>Slice by index</a></span></li><li><span><a href=\"#Slice-from-the-start\" data-toc-modified-id=\"Slice-from-the-start-0.15.2\"><span class=\"toc-item-num\">0.15.2&nbsp;&nbsp;</span>Slice from the start</a></span></li><li><span><a href=\"#Slice-to-the-end\" data-toc-modified-id=\"Slice-to-the-end-0.15.3\"><span class=\"toc-item-num\">0.15.3&nbsp;&nbsp;</span>Slice to the end</a></span></li></ul></li></ul></li><li><span><a href=\"#Pandas\" data-toc-modified-id=\"Pandas-1\"><span class=\"toc-item-num\">1&nbsp;&nbsp;</span>Pandas</a></span><ul class=\"toc-item\"><li><span><a href=\"#Series\" data-toc-modified-id=\"Series-1.1\"><span class=\"toc-item-num\">1.1&nbsp;&nbsp;</span>Series</a></span></li><li><span><a href=\"#Labels\" data-toc-modified-id=\"Labels-1.2\"><span class=\"toc-item-num\">1.2&nbsp;&nbsp;</span>Labels</a></span></li><li><span><a href=\"#Key/value-pairs\" data-toc-modified-id=\"Key/value-pairs-1.3\"><span class=\"toc-item-num\">1.3&nbsp;&nbsp;</span>Key/value pairs</a></span></li><li><span><a href=\"#DataFrame-from-two-series-in-dictionary-format\" data-toc-modified-id=\"DataFrame-from-two-series-in-dictionary-format-1.4\"><span class=\"toc-item-num\">1.4&nbsp;&nbsp;</span>DataFrame from two series in dictionary format</a></span></li></ul></li></ul></div>"
   ]
  },
  {
   "cell_type": "markdown",
   "metadata": {},
   "source": [
    "### Casting\n",
    "Setting the data type to a variable  "
   ]
  },
  {
   "cell_type": "code",
   "execution_count": 1,
   "metadata": {},
   "outputs": [
    {
     "name": "stdout",
     "output_type": "stream",
     "text": [
      "3\n",
      "3\n",
      "3.0\n",
      "<class 'str'>\n",
      "<class 'int'>\n",
      "<class 'float'>\n"
     ]
    }
   ],
   "source": [
    "x = str(3)\n",
    "y = int(3)\n",
    "z = float(3)\n",
    "\n",
    "print(x)\n",
    "print(y)\n",
    "print(z)\n",
    "\n",
    "print(type(x))\n",
    "print(type(y))\n",
    "print(type(z))"
   ]
  },
  {
   "cell_type": "markdown",
   "metadata": {},
   "source": [
    "### Many values to multiple variables"
   ]
  },
  {
   "cell_type": "code",
   "execution_count": 3,
   "metadata": {},
   "outputs": [
    {
     "name": "stdout",
     "output_type": "stream",
     "text": [
      "Orange\n",
      "Banana\n",
      "Cherry\n"
     ]
    }
   ],
   "source": [
    "x, y, z = \"Orange\", \"Banana\", \"Cherry\"\n",
    "\n",
    "print(x)\n",
    "print(y)\n",
    "print(z)"
   ]
  },
  {
   "cell_type": "markdown",
   "metadata": {},
   "source": [
    "### One value to multiple variables"
   ]
  },
  {
   "cell_type": "code",
   "execution_count": 4,
   "metadata": {},
   "outputs": [
    {
     "name": "stdout",
     "output_type": "stream",
     "text": [
      "Orange\n",
      "Orange\n",
      "Orange\n"
     ]
    }
   ],
   "source": [
    "x = y = z = \"Orange\"\n",
    "\n",
    "print(x)\n",
    "print(y)\n",
    "print(z)"
   ]
  },
  {
   "cell_type": "markdown",
   "metadata": {},
   "source": [
    "### Unpack a collection"
   ]
  },
  {
   "cell_type": "code",
   "execution_count": 5,
   "metadata": {},
   "outputs": [
    {
     "name": "stdout",
     "output_type": "stream",
     "text": [
      "apple\n",
      "banana\n",
      "cherry\n"
     ]
    }
   ],
   "source": [
    "fruits = [\"apple\", \"banana\", \"cherry\"]\n",
    "\n",
    "x, y, z = fruits\n",
    "\n",
    "print(x)\n",
    "print(y)\n",
    "print(z)"
   ]
  },
  {
   "cell_type": "markdown",
   "metadata": {},
   "source": [
    "### Unpack a tuple"
   ]
  },
  {
   "cell_type": "code",
   "execution_count": 6,
   "metadata": {},
   "outputs": [
    {
     "name": "stdout",
     "output_type": "stream",
     "text": [
      "apple\n",
      "banana\n",
      "cherry\n"
     ]
    }
   ],
   "source": [
    "fruits = (\"apple\", \"banana\", \"cherry\")\n",
    "\n",
    "(green, yellow, red) = fruits\n",
    "\n",
    "print(green)\n",
    "print(yellow)\n",
    "print(red)"
   ]
  },
  {
   "cell_type": "markdown",
   "metadata": {},
   "source": [
    "### Output variables"
   ]
  },
  {
   "cell_type": "code",
   "execution_count": 11,
   "metadata": {},
   "outputs": [
    {
     "name": "stdout",
     "output_type": "stream",
     "text": [
      "She said: Hey Jess, you wicked fly girrrl! Salute.\n"
     ]
    }
   ],
   "source": [
    "x = \"Hey Jess, you wicked fly girrrl! Salute.\"\n",
    "print(\"She said: \" + x)"
   ]
  },
  {
   "cell_type": "code",
   "execution_count": 13,
   "metadata": {},
   "outputs": [
    {
     "name": "stdout",
     "output_type": "stream",
     "text": [
      "Jessica is super awesome.\n"
     ]
    }
   ],
   "source": [
    "x = \"Jessica is \"\n",
    "y = \"super awesome.\"\n",
    "\n",
    "z =  x + y\n",
    "\n",
    "print(z)"
   ]
  },
  {
   "cell_type": "code",
   "execution_count": 14,
   "metadata": {},
   "outputs": [
    {
     "name": "stdout",
     "output_type": "stream",
     "text": [
      "15\n"
     ]
    }
   ],
   "source": [
    "x = 5\n",
    "\n",
    "y = 10\n",
    "\n",
    "print(x + y)"
   ]
  },
  {
   "cell_type": "markdown",
   "metadata": {},
   "source": [
    "### Global variables"
   ]
  },
  {
   "cell_type": "code",
   "execution_count": 15,
   "metadata": {},
   "outputs": [
    {
     "name": "stdout",
     "output_type": "stream",
     "text": [
      "Jessica is awesome\n"
     ]
    }
   ],
   "source": [
    "# Variable outside of function -- global variable\n",
    "x = \"awesome\"\n",
    "\n",
    "def practice_func():\n",
    "    print(\"Jessica is \" + x)\n",
    "\n",
    "practice_func()"
   ]
  },
  {
   "cell_type": "code",
   "execution_count": 20,
   "metadata": {},
   "outputs": [
    {
     "name": "stdout",
     "output_type": "stream",
     "text": [
      "### Printing from inside function: ### \n",
      "\n",
      "        Python is fantastic\n",
      "\n",
      "### Printing from outside function: ###\n",
      "\n",
      "        Python is awesome\n"
     ]
    }
   ],
   "source": [
    "x = \"awesome\" # Global Variable\n",
    "\n",
    "def myfunc():\n",
    "    x = \"fantastic\" # Local Variable inside function\n",
    "    print(\"### Printing from inside function: ### \\n\")\n",
    "    print(\"        Python is \" + x + '\\n')\n",
    "\n",
    "myfunc()\n",
    "\n",
    "print(\"### Printing from outside function: ###\\n\")\n",
    "print(\"        Python is \" + x)"
   ]
  },
  {
   "cell_type": "markdown",
   "metadata": {},
   "source": [
    "### Assign Global Keyword inside of a function"
   ]
  },
  {
   "cell_type": "code",
   "execution_count": 21,
   "metadata": {},
   "outputs": [
    {
     "name": "stdout",
     "output_type": "stream",
     "text": [
      "Python is fantastic\n"
     ]
    }
   ],
   "source": [
    "def myfunc():\n",
    "    global x # Global Keyword\n",
    "    x = \"fantastic\"\n",
    "\n",
    "myfunc()\n",
    "\n",
    "print(\"Python is \" + x)"
   ]
  },
  {
   "cell_type": "code",
   "execution_count": 23,
   "metadata": {},
   "outputs": [
    {
     "name": "stdout",
     "output_type": "stream",
     "text": [
      "Python is fantastic\n"
     ]
    }
   ],
   "source": [
    "x = \"awesome\"\n",
    "\n",
    "def myfunc():\n",
    "    global x\n",
    "    x = \"fantastic\" # Rename Global Keyword within function\n",
    "\n",
    "myfunc()\n",
    "\n",
    "print(\"Python is \" + x)"
   ]
  },
  {
   "cell_type": "markdown",
   "metadata": {},
   "source": [
    "### Python Data Types\n",
    "\n",
    "\n",
    "- Text Type:\tstr\n",
    "- Numeric Types:\tint, float, complex\n",
    "- Sequence Types:\tlist, tuple, range\n",
    "- Mapping Type:\tdict\n",
    "- Set Types:\tset, frozenset\n",
    "- Boolean Type:\tbool\n",
    "- Binary Types:\tbytes, bytearray, memoryview"
   ]
  },
  {
   "cell_type": "code",
   "execution_count": 32,
   "metadata": {},
   "outputs": [
    {
     "name": "stdout",
     "output_type": "stream",
     "text": [
      "Hello World\n",
      "<class 'str'>\n",
      "\n",
      "\n",
      "20\n",
      "<class 'int'>\n",
      "\n",
      "\n",
      "20.5\n",
      "<class 'float'>\n",
      "\n",
      "\n",
      "1j\n",
      "<class 'complex'>\n",
      "\n",
      "\n",
      "['apple', 'banana', 'cherry']\n",
      "<class 'list'>\n",
      "\n",
      "\n",
      "('apple', 'banana', 'cherry')\n",
      "<class 'tuple'>\n",
      "\n",
      "\n",
      "range(0, 6)\n",
      "<class 'range'>\n",
      "\n",
      "\n",
      "{'name': 'John', 'age': 36}\n",
      "<class 'dict'>\n",
      "\n",
      "\n",
      "{'apple', 'cherry', 'banana'}\n",
      "<class 'set'>\n",
      "\n",
      "\n",
      "frozenset({'apple', 'cherry', 'banana'})\n",
      "<class 'frozenset'>\n",
      "\n",
      "\n",
      "True\n",
      "<class 'bool'>\n",
      "\n",
      "\n",
      "b'Hello'\n",
      "<class 'bytes'>\n",
      "\n",
      "\n",
      "bytearray(b'\\x00\\x00\\x00\\x00\\x00')\n",
      "<class 'bytearray'>\n",
      "\n",
      "\n",
      "<memory at 0x7fa6c2292f48>\n",
      "<class 'memoryview'>\n",
      "\n",
      "\n"
     ]
    }
   ],
   "source": [
    "# str\n",
    "a = \"Hello World\"\n",
    "\n",
    "# int\n",
    "b = 20\n",
    "\n",
    "# float\n",
    "c = 20.5\n",
    "\n",
    "# complex\n",
    "d = 1j\n",
    "\n",
    "# list\n",
    "e = [\"apple\", \"banana\", \"cherry\"]\n",
    "\n",
    "# tuple\n",
    "f = (\"apple\", \"banana\", \"cherry\")\n",
    "\n",
    "# range\n",
    "g = range(6)\n",
    "\n",
    "# dict\n",
    "h = {\"name\" : \"John\", \"age\" : 36}\n",
    "\n",
    "### set ###\n",
    "# It can have any number of items  \n",
    "# and they may be of different types:\n",
    "# integer, float, tuple, string etc.\n",
    "i = {\"apple\", \"banana\", \"cherry\"}\n",
    "\n",
    "\n",
    "# frozenset\n",
    "j = frozenset({\"apple\", \"banana\", \"cherry\"})\n",
    "\n",
    "# bool\n",
    "k = True\n",
    "\n",
    "# bytes\n",
    "l = b\"Hello\"\n",
    "\n",
    "# bytearray\n",
    "m = bytearray(5)\n",
    "\n",
    "# memoryview\n",
    "n = memoryview(bytes(5))\n",
    "\n",
    "data_types_list = [a,b,c,d,e,f,g,h,i,j,k,l,m,n]\n",
    "def print_dtype(dtype_list):\n",
    "    for data_type in data_types_list:\n",
    "        # Print variable\n",
    "        print(data_type)\n",
    "        # Print data type\n",
    "        print(type(data_type))\n",
    "        print(\"\\n\")\n",
    "        \n",
    "print_dtype(data_types_list)"
   ]
  },
  {
   "cell_type": "code",
   "execution_count": 34,
   "metadata": {},
   "outputs": [
    {
     "name": "stdout",
     "output_type": "stream",
     "text": [
      "Hello World\n",
      "<class 'str'>\n",
      "\n",
      "\n",
      "20\n",
      "<class 'int'>\n",
      "\n",
      "\n",
      "20.5\n",
      "<class 'float'>\n",
      "\n",
      "\n",
      "1j\n",
      "<class 'complex'>\n",
      "\n",
      "\n",
      "['apple', 'banana', 'cherry']\n",
      "<class 'list'>\n",
      "\n",
      "\n",
      "('apple', 'banana', 'cherry')\n",
      "<class 'tuple'>\n",
      "\n",
      "\n",
      "range(0, 6)\n",
      "<class 'range'>\n",
      "\n",
      "\n",
      "{'name': 'John', 'age': 36}\n",
      "<class 'dict'>\n",
      "\n",
      "\n",
      "{'apple', 'cherry', 'banana'}\n",
      "<class 'set'>\n",
      "\n",
      "\n",
      "frozenset({'apple', 'cherry', 'banana'})\n",
      "<class 'frozenset'>\n",
      "\n",
      "\n",
      "True\n",
      "<class 'bool'>\n",
      "\n",
      "\n",
      "b'Hello'\n",
      "<class 'bytes'>\n",
      "\n",
      "\n",
      "bytearray(b'\\x00\\x00\\x00\\x00\\x00')\n",
      "<class 'bytearray'>\n",
      "\n",
      "\n",
      "<memory at 0x7fa6c2292f48>\n",
      "<class 'memoryview'>\n",
      "\n",
      "\n"
     ]
    }
   ],
   "source": [
    "# str\n",
    "a = str(\"Hello World\")\n",
    "\n",
    "# int\n",
    "b = int(20)\n",
    "\n",
    "# float\n",
    "c = float(20.5)\n",
    "\n",
    "# complex\n",
    "d = complex(1j)\n",
    "\n",
    "# list\n",
    "e = list((\"apple\", \"banana\", \"cherry\"))\n",
    "\n",
    "# tuple\n",
    "f = tuple((\"apple\", \"banana\", \"cherry\"))\n",
    "\n",
    "# range\n",
    "g = range(6)\n",
    "\n",
    "# dict\n",
    "h = dict(name=\"John\", age=36)\n",
    "\n",
    "# set\n",
    "i = set((\"apple\", \"banana\", \"cherry\"))\n",
    "\n",
    "# frozenset\n",
    "j = frozenset((\"apple\", \"banana\", \"cherry\"))\n",
    "\n",
    "# bool\n",
    "k = bool(5)\n",
    "\n",
    "# bytes\n",
    "l = bytes(5)\n",
    "\n",
    "# bytearray\n",
    "m = bytearray(5)\n",
    "\n",
    "# memoryview\n",
    "n = memoryview(bytes(5))\n",
    "\n",
    "# Print dtypes \n",
    "print_dtype(data_types_list)"
   ]
  },
  {
   "cell_type": "code",
   "execution_count": 29,
   "metadata": {},
   "outputs": [
    {
     "data": {
      "text/plain": [
       "range(0, 6)"
      ]
     },
     "execution_count": 29,
     "metadata": {},
     "output_type": "execute_result"
    }
   ],
   "source": [
    "range(0,6)"
   ]
  },
  {
   "cell_type": "code",
   "execution_count": 31,
   "metadata": {},
   "outputs": [
    {
     "data": {
      "text/plain": [
       "[0, 1, 2, 3, 4, 5]"
      ]
     },
     "execution_count": 31,
     "metadata": {},
     "output_type": "execute_result"
    }
   ],
   "source": [
    "[x for x in range(0,6)]"
   ]
  },
  {
   "cell_type": "markdown",
   "metadata": {},
   "source": [
    "### Python numbers"
   ]
  },
  {
   "cell_type": "code",
   "execution_count": 35,
   "metadata": {},
   "outputs": [],
   "source": [
    "x = 1    # int\n",
    "y = 2.8  # float\n",
    "z = 1j   # complex"
   ]
  },
  {
   "cell_type": "code",
   "execution_count": 36,
   "metadata": {},
   "outputs": [
    {
     "name": "stdout",
     "output_type": "stream",
     "text": [
      "<class 'int'>\n",
      "<class 'float'>\n",
      "<class 'complex'>\n"
     ]
    }
   ],
   "source": [
    "print(type(x))\n",
    "print(type(y))\n",
    "print(type(z))"
   ]
  },
  {
   "cell_type": "markdown",
   "metadata": {},
   "source": [
    "### Casting"
   ]
  },
  {
   "cell_type": "markdown",
   "metadata": {},
   "source": [
    "#### Integers"
   ]
  },
  {
   "cell_type": "code",
   "execution_count": 45,
   "metadata": {},
   "outputs": [
    {
     "name": "stdout",
     "output_type": "stream",
     "text": [
      "1\n",
      "2\n",
      "3\n"
     ]
    }
   ],
   "source": [
    "x = int(1)   # x will be 1\n",
    "y = int(2.8) # y will be 2\n",
    "z = int(\"3\") # z will be 3\n",
    "\n",
    "i_vars = [x,y,z]\n",
    "[print(i) for i in i_vars];"
   ]
  },
  {
   "cell_type": "markdown",
   "metadata": {},
   "source": [
    "#### Floats"
   ]
  },
  {
   "cell_type": "code",
   "execution_count": 46,
   "metadata": {},
   "outputs": [
    {
     "name": "stdout",
     "output_type": "stream",
     "text": [
      "1.0\n",
      "2.8\n",
      "3.0\n",
      "4.2\n"
     ]
    }
   ],
   "source": [
    "x = float(1)     # x will be 1.0\n",
    "y = float(2.8)   # y will be 2.8\n",
    "z = float(\"3\")   # z will be 3.0\n",
    "w = float(\"4.2\") # w will be 4.2\n",
    "\n",
    "i_vars = [x,y,z,w]\n",
    "[print(i) for i in i_vars];"
   ]
  },
  {
   "cell_type": "markdown",
   "metadata": {},
   "source": [
    "#### Strings"
   ]
  },
  {
   "cell_type": "code",
   "execution_count": 47,
   "metadata": {},
   "outputs": [
    {
     "name": "stdout",
     "output_type": "stream",
     "text": [
      "s1\n",
      "2\n",
      "3.0\n"
     ]
    }
   ],
   "source": [
    "x = str(\"s1\") # x will be 's1'\n",
    "y = str(2)    # y will be '2'\n",
    "z = str(3.0)  # z will be '3.0'\n",
    "\n",
    "i_vars = [x,y,z]\n",
    "[print(i) for i in i_vars];"
   ]
  },
  {
   "cell_type": "markdown",
   "metadata": {},
   "source": [
    "### Strings"
   ]
  },
  {
   "cell_type": "code",
   "execution_count": 56,
   "metadata": {},
   "outputs": [
    {
     "name": "stdout",
     "output_type": "stream",
     "text": [
      "Hello\n",
      "Hello\n"
     ]
    }
   ],
   "source": [
    "# Double quotes\n",
    "a = \"Hello\"\n",
    "print(a)\n",
    "\n",
    "# Single quotes\n",
    "a = 'Hello'\n",
    "print(a)"
   ]
  },
  {
   "cell_type": "code",
   "execution_count": 57,
   "metadata": {},
   "outputs": [
    {
     "name": "stdout",
     "output_type": "stream",
     "text": [
      "Lorem ipsum dolor sit amet,\n",
      "consectetur adipiscing elit,\n",
      "sed do eiusmod tempor incididunt\n",
      "ut labore et dolore magna aliqua.\n",
      "\n",
      "\n",
      "Lorem ipsum dolor sit amet,\n",
      "consectetur adipiscing elit,\n",
      "sed do eiusmod tempor incididunt\n",
      "ut labore et dolore magna aliqua.\n"
     ]
    }
   ],
   "source": [
    "# Double quotes 3 times - doc string\n",
    "a = \"\"\"Lorem ipsum dolor sit amet,\n",
    "consectetur adipiscing elit,\n",
    "sed do eiusmod tempor incididunt\n",
    "ut labore et dolore magna aliqua.\"\"\"\n",
    "print(a)\n",
    "\n",
    "print('\\n')\n",
    "\n",
    "# Single quotes 3 times - doc string\n",
    "a = '''Lorem ipsum dolor sit amet,\n",
    "consectetur adipiscing elit,\n",
    "sed do eiusmod tempor incididunt\n",
    "ut labore et dolore magna aliqua.'''\n",
    "print(a)"
   ]
  },
  {
   "cell_type": "markdown",
   "metadata": {},
   "source": [
    "### Strings are arrays\n",
    "\n",
    "Like many other popular programming languages, **strings in Python are arrays of bytes** representing unicode characters.\n",
    "\n",
    "Square brackets can be used to access elements of the string."
   ]
  },
  {
   "cell_type": "code",
   "execution_count": 58,
   "metadata": {},
   "outputs": [
    {
     "name": "stdout",
     "output_type": "stream",
     "text": [
      "e\n"
     ]
    }
   ],
   "source": [
    "a = \"Hello, World!\"\n",
    "print(a[1])"
   ]
  },
  {
   "cell_type": "code",
   "execution_count": 59,
   "metadata": {},
   "outputs": [
    {
     "name": "stdout",
     "output_type": "stream",
     "text": [
      "b\n",
      "a\n",
      "n\n",
      "a\n",
      "n\n",
      "a\n"
     ]
    }
   ],
   "source": [
    "[print(x) for x in \"banana\"];"
   ]
  },
  {
   "cell_type": "code",
   "execution_count": 60,
   "metadata": {},
   "outputs": [
    {
     "name": "stdout",
     "output_type": "stream",
     "text": [
      "13\n"
     ]
    }
   ],
   "source": [
    "a = \"Hello, World!\"\n",
    "print(len(a))"
   ]
  },
  {
   "cell_type": "markdown",
   "metadata": {},
   "source": [
    "### Check string\n",
    "\n",
    "Check if \"free\" is present in the following text:"
   ]
  },
  {
   "cell_type": "code",
   "execution_count": 64,
   "metadata": {},
   "outputs": [
    {
     "name": "stdout",
     "output_type": "stream",
     "text": [
      "True\n"
     ]
    }
   ],
   "source": [
    "txt = \"The best things in life are not free!\"\n",
    "print(\"free\" in txt)"
   ]
  },
  {
   "cell_type": "markdown",
   "metadata": {},
   "source": [
    "Print only if \"free\" is present:"
   ]
  },
  {
   "cell_type": "code",
   "execution_count": 70,
   "metadata": {},
   "outputs": [
    {
     "name": "stdout",
     "output_type": "stream",
     "text": [
      "Yes, free is present.\n"
     ]
    }
   ],
   "source": [
    "txt = \"The best things in life are free!\"\n",
    "\n",
    "def is_present(word, text):\n",
    "    if word in text:\n",
    "        print(f\"Yes, {word} is present.\")\n",
    "    elif word not in text:\n",
    "        print(f\"No, {word} is not present\")\n",
    "        \n",
    "is_present('free', txt)"
   ]
  },
  {
   "cell_type": "code",
   "execution_count": 68,
   "metadata": {},
   "outputs": [
    {
     "name": "stdout",
     "output_type": "stream",
     "text": [
      "Yes, fly is present.\n"
     ]
    }
   ],
   "source": [
    "sentence = \"I believe I can fly\"\n",
    "\n",
    "is_present('fly', sentence)"
   ]
  },
  {
   "cell_type": "code",
   "execution_count": 71,
   "metadata": {},
   "outputs": [
    {
     "name": "stdout",
     "output_type": "stream",
     "text": [
      "No, cloud is not present\n"
     ]
    }
   ],
   "source": [
    "is_present('cloud', sentence)"
   ]
  },
  {
   "cell_type": "markdown",
   "metadata": {},
   "source": [
    "### Slicing strings\n",
    "\n",
    "#### Slice by index"
   ]
  },
  {
   "cell_type": "code",
   "execution_count": 73,
   "metadata": {},
   "outputs": [
    {
     "name": "stdout",
     "output_type": "stream",
     "text": [
      "ello\n"
     ]
    }
   ],
   "source": [
    "b = \"Hello, World!\"\n",
    "print(b[1:5])"
   ]
  },
  {
   "cell_type": "markdown",
   "metadata": {},
   "source": [
    "#### Slice from the start"
   ]
  },
  {
   "cell_type": "code",
   "execution_count": 75,
   "metadata": {},
   "outputs": [
    {
     "name": "stdout",
     "output_type": "stream",
     "text": [
      "Hello\n"
     ]
    }
   ],
   "source": [
    "b = \"Hello, World!\"\n",
    "print(b[:5])"
   ]
  },
  {
   "cell_type": "markdown",
   "metadata": {},
   "source": [
    "#### Slice to the end"
   ]
  },
  {
   "cell_type": "code",
   "execution_count": 77,
   "metadata": {},
   "outputs": [
    {
     "name": "stdout",
     "output_type": "stream",
     "text": [
      "ello, World!\n"
     ]
    }
   ],
   "source": [
    "b = \"Hello, World!\"\n",
    "print(b[1:])"
   ]
  },
  {
   "cell_type": "markdown",
   "metadata": {},
   "source": [
    "Get the characters:\n",
    "- From: \"o\" in \"World!\" (position -5)\n",
    "- To, but not included: \"d\" in \"World!\" (position -2):"
   ]
  },
  {
   "cell_type": "code",
   "execution_count": 82,
   "metadata": {},
   "outputs": [
    {
     "name": "stdout",
     "output_type": "stream",
     "text": [
      "World\n"
     ]
    }
   ],
   "source": [
    "b = \"Hello, World!\"\n",
    "print(b[-6:-1])"
   ]
  },
  {
   "cell_type": "markdown",
   "metadata": {},
   "source": [
    "## Pandas"
   ]
  },
  {
   "cell_type": "code",
   "execution_count": 85,
   "metadata": {},
   "outputs": [
    {
     "data": {
      "text/html": [
       "<div>\n",
       "<style scoped>\n",
       "    .dataframe tbody tr th:only-of-type {\n",
       "        vertical-align: middle;\n",
       "    }\n",
       "\n",
       "    .dataframe tbody tr th {\n",
       "        vertical-align: top;\n",
       "    }\n",
       "\n",
       "    .dataframe thead th {\n",
       "        text-align: right;\n",
       "    }\n",
       "</style>\n",
       "<table border=\"1\" class=\"dataframe\">\n",
       "  <thead>\n",
       "    <tr style=\"text-align: right;\">\n",
       "      <th></th>\n",
       "      <th>cars</th>\n",
       "      <th>passings</th>\n",
       "    </tr>\n",
       "  </thead>\n",
       "  <tbody>\n",
       "    <tr>\n",
       "      <td>0</td>\n",
       "      <td>BMW</td>\n",
       "      <td>3</td>\n",
       "    </tr>\n",
       "    <tr>\n",
       "      <td>1</td>\n",
       "      <td>Volvo</td>\n",
       "      <td>7</td>\n",
       "    </tr>\n",
       "    <tr>\n",
       "      <td>2</td>\n",
       "      <td>Ford</td>\n",
       "      <td>2</td>\n",
       "    </tr>\n",
       "  </tbody>\n",
       "</table>\n",
       "</div>"
      ],
      "text/plain": [
       "    cars  passings\n",
       "0    BMW         3\n",
       "1  Volvo         7\n",
       "2   Ford         2"
      ]
     },
     "execution_count": 85,
     "metadata": {},
     "output_type": "execute_result"
    }
   ],
   "source": [
    "import pandas as pd\n",
    "\n",
    "mydataset = {\n",
    "  'cars': [\"BMW\", \"Volvo\", \"Ford\"],\n",
    "  'passings': [3, 7, 2]\n",
    "}\n",
    "\n",
    "myvar = pd.DataFrame(mydataset)\n",
    "\n",
    "myvar"
   ]
  },
  {
   "cell_type": "code",
   "execution_count": 88,
   "metadata": {},
   "outputs": [
    {
     "data": {
      "text/plain": [
       "'0.25.1'"
      ]
     },
     "execution_count": 88,
     "metadata": {},
     "output_type": "execute_result"
    }
   ],
   "source": [
    "pd.__version__"
   ]
  },
  {
   "cell_type": "markdown",
   "metadata": {},
   "source": [
    "### Series"
   ]
  },
  {
   "cell_type": "code",
   "execution_count": 90,
   "metadata": {},
   "outputs": [
    {
     "name": "stdout",
     "output_type": "stream",
     "text": [
      "0    1\n",
      "1    7\n",
      "2    2\n",
      "dtype: int64\n"
     ]
    }
   ],
   "source": [
    "a = [1, 7, 2]\n",
    "\n",
    "myvar = pd.Series(a)\n",
    "\n",
    "myvar"
   ]
  },
  {
   "cell_type": "markdown",
   "metadata": {},
   "source": [
    "### Labels\n",
    "\n",
    "If nothing else is specified, the values are labeled with their index number. First value has index 0, second value has index 1 etc.\n",
    "\n",
    "This label can be used to access a specified value.\n",
    "\n",
    "With the index argument, you can name your own labels."
   ]
  },
  {
   "cell_type": "code",
   "execution_count": 91,
   "metadata": {},
   "outputs": [
    {
     "data": {
      "text/plain": [
       "1"
      ]
     },
     "execution_count": 91,
     "metadata": {},
     "output_type": "execute_result"
    }
   ],
   "source": [
    "myvar[0]"
   ]
  },
  {
   "cell_type": "code",
   "execution_count": 95,
   "metadata": {},
   "outputs": [
    {
     "data": {
      "text/plain": [
       "x    1\n",
       "y    7\n",
       "z    2\n",
       "dtype: int64"
      ]
     },
     "execution_count": 95,
     "metadata": {},
     "output_type": "execute_result"
    }
   ],
   "source": [
    "a = [1, 7, 2]\n",
    "\n",
    "myvar = pd.Series(a, index = [\"x\", \"y\", \"z\"]) # Index 0-2 replaced with x-z\n",
    "\n",
    "myvar"
   ]
  },
  {
   "cell_type": "markdown",
   "metadata": {},
   "source": [
    "When you have created labels, you can access an item by referring to the label."
   ]
  },
  {
   "cell_type": "code",
   "execution_count": 96,
   "metadata": {},
   "outputs": [
    {
     "data": {
      "text/plain": [
       "7"
      ]
     },
     "execution_count": 96,
     "metadata": {},
     "output_type": "execute_result"
    }
   ],
   "source": [
    "myvar[\"y\"]"
   ]
  },
  {
   "cell_type": "code",
   "execution_count": 97,
   "metadata": {},
   "outputs": [
    {
     "data": {
      "text/plain": [
       "7"
      ]
     },
     "execution_count": 97,
     "metadata": {},
     "output_type": "execute_result"
    }
   ],
   "source": [
    "myvar.y"
   ]
  },
  {
   "cell_type": "markdown",
   "metadata": {},
   "source": [
    "### Key/value pairs \n",
    "\n",
    "You can also use a key/value object, like a dictionary, when creating a Series.\n",
    "\n",
    "Key becomes index & value becomes value. "
   ]
  },
  {
   "cell_type": "code",
   "execution_count": 98,
   "metadata": {},
   "outputs": [
    {
     "data": {
      "text/plain": [
       "day1    420\n",
       "day2    380\n",
       "day3    390\n",
       "dtype: int64"
      ]
     },
     "execution_count": 98,
     "metadata": {},
     "output_type": "execute_result"
    }
   ],
   "source": [
    "calories = {\"day1\": 420, \"day2\": 380, \"day3\": 390}\n",
    "\n",
    "myvar = pd.Series(calories)\n",
    "\n",
    "myvar"
   ]
  },
  {
   "cell_type": "markdown",
   "metadata": {},
   "source": [
    "To select only some of the items in the dictionary, use the **index** argument and specify only the items you want to include in the Series."
   ]
  },
  {
   "cell_type": "code",
   "execution_count": 99,
   "metadata": {},
   "outputs": [
    {
     "data": {
      "text/plain": [
       "day1    420\n",
       "day2    380\n",
       "dtype: int64"
      ]
     },
     "execution_count": 99,
     "metadata": {},
     "output_type": "execute_result"
    }
   ],
   "source": [
    "calories = {\"day1\": 420, \"day2\": 380, \"day3\": 390}\n",
    "\n",
    "myvar = pd.Series(calories, index = [\"day1\", \"day2\"]) # Index first two keys\n",
    "\n",
    "myvar"
   ]
  },
  {
   "cell_type": "markdown",
   "metadata": {},
   "source": [
    "### DataFrame from two series in dictionary format"
   ]
  },
  {
   "cell_type": "code",
   "execution_count": 100,
   "metadata": {},
   "outputs": [
    {
     "data": {
      "text/html": [
       "<div>\n",
       "<style scoped>\n",
       "    .dataframe tbody tr th:only-of-type {\n",
       "        vertical-align: middle;\n",
       "    }\n",
       "\n",
       "    .dataframe tbody tr th {\n",
       "        vertical-align: top;\n",
       "    }\n",
       "\n",
       "    .dataframe thead th {\n",
       "        text-align: right;\n",
       "    }\n",
       "</style>\n",
       "<table border=\"1\" class=\"dataframe\">\n",
       "  <thead>\n",
       "    <tr style=\"text-align: right;\">\n",
       "      <th></th>\n",
       "      <th>calories</th>\n",
       "      <th>duration</th>\n",
       "    </tr>\n",
       "  </thead>\n",
       "  <tbody>\n",
       "    <tr>\n",
       "      <td>0</td>\n",
       "      <td>420</td>\n",
       "      <td>50</td>\n",
       "    </tr>\n",
       "    <tr>\n",
       "      <td>1</td>\n",
       "      <td>380</td>\n",
       "      <td>40</td>\n",
       "    </tr>\n",
       "    <tr>\n",
       "      <td>2</td>\n",
       "      <td>390</td>\n",
       "      <td>45</td>\n",
       "    </tr>\n",
       "  </tbody>\n",
       "</table>\n",
       "</div>"
      ],
      "text/plain": [
       "   calories  duration\n",
       "0       420        50\n",
       "1       380        40\n",
       "2       390        45"
      ]
     },
     "execution_count": 100,
     "metadata": {},
     "output_type": "execute_result"
    }
   ],
   "source": [
    "data = {\n",
    "  \"calories\": [420, 380, 390],\n",
    "  \"duration\": [50, 40, 45]\n",
    "}\n",
    "\n",
    "myvar = pd.DataFrame(data)\n",
    "\n",
    "myvar"
   ]
  },
  {
   "cell_type": "code",
   "execution_count": null,
   "metadata": {},
   "outputs": [],
   "source": []
  }
 ],
 "metadata": {
  "kernelspec": {
   "display_name": "Python [conda env:learn-env] *",
   "language": "python",
   "name": "conda-env-learn-env-py"
  },
  "language_info": {
   "codemirror_mode": {
    "name": "ipython",
    "version": 3
   },
   "file_extension": ".py",
   "mimetype": "text/x-python",
   "name": "python",
   "nbconvert_exporter": "python",
   "pygments_lexer": "ipython3",
   "version": "3.6.9"
  },
  "toc": {
   "base_numbering": 1,
   "nav_menu": {},
   "number_sections": true,
   "sideBar": true,
   "skip_h1_title": false,
   "title_cell": "Table of Contents",
   "title_sidebar": "Contents",
   "toc_cell": true,
   "toc_position": {},
   "toc_section_display": true,
   "toc_window_display": false
  }
 },
 "nbformat": 4,
 "nbformat_minor": 2
}
