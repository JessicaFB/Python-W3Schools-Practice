{
 "cells": [
  {
   "cell_type": "markdown",
   "metadata": {
    "toc": true
   },
   "source": [
    "<h1>Table of Contents<span class=\"tocSkip\"></span></h1>\n",
    "<div class=\"toc\"><ul class=\"toc-item\"><li><span><a href=\"#Casting\" data-toc-modified-id=\"Casting-1\"><span class=\"toc-item-num\">1&nbsp;&nbsp;</span>Casting</a></span></li><li><span><a href=\"#Many-values-to-multiple-variables\" data-toc-modified-id=\"Many-values-to-multiple-variables-2\"><span class=\"toc-item-num\">2&nbsp;&nbsp;</span>Many values to multiple variables</a></span></li><li><span><a href=\"#One-value-to-multiple-variables\" data-toc-modified-id=\"One-value-to-multiple-variables-3\"><span class=\"toc-item-num\">3&nbsp;&nbsp;</span>One value to multiple variables</a></span></li><li><span><a href=\"#Unpack-a-collection\" data-toc-modified-id=\"Unpack-a-collection-4\"><span class=\"toc-item-num\">4&nbsp;&nbsp;</span>Unpack a collection</a></span></li><li><span><a href=\"#Unpack-a-tuple\" data-toc-modified-id=\"Unpack-a-tuple-5\"><span class=\"toc-item-num\">5&nbsp;&nbsp;</span>Unpack a tuple</a></span></li><li><span><a href=\"#Output-variables\" data-toc-modified-id=\"Output-variables-6\"><span class=\"toc-item-num\">6&nbsp;&nbsp;</span>Output variables</a></span></li><li><span><a href=\"#Global-variables\" data-toc-modified-id=\"Global-variables-7\"><span class=\"toc-item-num\">7&nbsp;&nbsp;</span>Global variables</a></span></li><li><span><a href=\"#Assign-Global-Keyword-inside-of-a-function\" data-toc-modified-id=\"Assign-Global-Keyword-inside-of-a-function-8\"><span class=\"toc-item-num\">8&nbsp;&nbsp;</span>Assign Global Keyword inside of a function</a></span></li></ul></div>"
   ]
  },
  {
   "cell_type": "markdown",
   "metadata": {},
   "source": [
    "### Casting\n",
    "Setting the data type to a variable  "
   ]
  },
  {
   "cell_type": "code",
   "execution_count": 1,
   "metadata": {},
   "outputs": [
    {
     "name": "stdout",
     "output_type": "stream",
     "text": [
      "3\n",
      "3\n",
      "3.0\n",
      "<class 'str'>\n",
      "<class 'int'>\n",
      "<class 'float'>\n"
     ]
    }
   ],
   "source": [
    "x = str(3)\n",
    "y = int(3)\n",
    "z = float(3)\n",
    "\n",
    "print(x)\n",
    "print(y)\n",
    "print(z)\n",
    "\n",
    "print(type(x))\n",
    "print(type(y))\n",
    "print(type(z))"
   ]
  },
  {
   "cell_type": "markdown",
   "metadata": {},
   "source": [
    "### Many values to multiple variables"
   ]
  },
  {
   "cell_type": "code",
   "execution_count": 3,
   "metadata": {},
   "outputs": [
    {
     "name": "stdout",
     "output_type": "stream",
     "text": [
      "Orange\n",
      "Banana\n",
      "Cherry\n"
     ]
    }
   ],
   "source": [
    "x, y, z = \"Orange\", \"Banana\", \"Cherry\"\n",
    "\n",
    "print(x)\n",
    "print(y)\n",
    "print(z)"
   ]
  },
  {
   "cell_type": "markdown",
   "metadata": {},
   "source": [
    "### One value to multiple variables"
   ]
  },
  {
   "cell_type": "code",
   "execution_count": 4,
   "metadata": {},
   "outputs": [
    {
     "name": "stdout",
     "output_type": "stream",
     "text": [
      "Orange\n",
      "Orange\n",
      "Orange\n"
     ]
    }
   ],
   "source": [
    "x = y = z = \"Orange\"\n",
    "\n",
    "print(x)\n",
    "print(y)\n",
    "print(z)"
   ]
  },
  {
   "cell_type": "markdown",
   "metadata": {},
   "source": [
    "### Unpack a collection"
   ]
  },
  {
   "cell_type": "code",
   "execution_count": 5,
   "metadata": {},
   "outputs": [
    {
     "name": "stdout",
     "output_type": "stream",
     "text": [
      "apple\n",
      "banana\n",
      "cherry\n"
     ]
    }
   ],
   "source": [
    "fruits = [\"apple\", \"banana\", \"cherry\"]\n",
    "\n",
    "x, y, z = fruits\n",
    "\n",
    "print(x)\n",
    "print(y)\n",
    "print(z)"
   ]
  },
  {
   "cell_type": "markdown",
   "metadata": {},
   "source": [
    "### Unpack a tuple"
   ]
  },
  {
   "cell_type": "code",
   "execution_count": 6,
   "metadata": {},
   "outputs": [
    {
     "name": "stdout",
     "output_type": "stream",
     "text": [
      "apple\n",
      "banana\n",
      "cherry\n"
     ]
    }
   ],
   "source": [
    "fruits = (\"apple\", \"banana\", \"cherry\")\n",
    "\n",
    "(green, yellow, red) = fruits\n",
    "\n",
    "print(green)\n",
    "print(yellow)\n",
    "print(red)"
   ]
  },
  {
   "cell_type": "markdown",
   "metadata": {},
   "source": [
    "### Output variables"
   ]
  },
  {
   "cell_type": "code",
   "execution_count": 11,
   "metadata": {},
   "outputs": [
    {
     "name": "stdout",
     "output_type": "stream",
     "text": [
      "She said: Hey Jess, you wicked fly girrrl! Salute.\n"
     ]
    }
   ],
   "source": [
    "x = \"Hey Jess, you wicked fly girrrl! Salute.\"\n",
    "print(\"She said: \" + x)"
   ]
  },
  {
   "cell_type": "code",
   "execution_count": 13,
   "metadata": {},
   "outputs": [
    {
     "name": "stdout",
     "output_type": "stream",
     "text": [
      "Jessica is super awesome.\n"
     ]
    }
   ],
   "source": [
    "x = \"Jessica is \"\n",
    "y = \"super awesome.\"\n",
    "\n",
    "z =  x + y\n",
    "\n",
    "print(z)"
   ]
  },
  {
   "cell_type": "code",
   "execution_count": 14,
   "metadata": {},
   "outputs": [
    {
     "name": "stdout",
     "output_type": "stream",
     "text": [
      "15\n"
     ]
    }
   ],
   "source": [
    "x = 5\n",
    "\n",
    "y = 10\n",
    "\n",
    "print(x + y)"
   ]
  },
  {
   "cell_type": "markdown",
   "metadata": {},
   "source": [
    "### Global variables"
   ]
  },
  {
   "cell_type": "code",
   "execution_count": 15,
   "metadata": {},
   "outputs": [
    {
     "name": "stdout",
     "output_type": "stream",
     "text": [
      "Jessica is awesome\n"
     ]
    }
   ],
   "source": [
    "# Variable outside of function -- global variable\n",
    "x = \"awesome\"\n",
    "\n",
    "def practice_func():\n",
    "    print(\"Jessica is \" + x)\n",
    "\n",
    "practice_func()"
   ]
  },
  {
   "cell_type": "code",
   "execution_count": 20,
   "metadata": {},
   "outputs": [
    {
     "name": "stdout",
     "output_type": "stream",
     "text": [
      "### Printing from inside function: ### \n",
      "\n",
      "        Python is fantastic\n",
      "\n",
      "### Printing from outside function: ###\n",
      "\n",
      "        Python is awesome\n"
     ]
    }
   ],
   "source": [
    "x = \"awesome\" # Global Variable\n",
    "\n",
    "def myfunc():\n",
    "    x = \"fantastic\" # Local Variable inside function\n",
    "    print(\"### Printing from inside function: ### \\n\")\n",
    "    print(\"        Python is \" + x + '\\n')\n",
    "\n",
    "myfunc()\n",
    "\n",
    "print(\"### Printing from outside function: ###\\n\")\n",
    "print(\"        Python is \" + x)"
   ]
  },
  {
   "cell_type": "markdown",
   "metadata": {},
   "source": [
    "### Assign Global Keyword inside of a function"
   ]
  },
  {
   "cell_type": "code",
   "execution_count": 21,
   "metadata": {},
   "outputs": [
    {
     "name": "stdout",
     "output_type": "stream",
     "text": [
      "Python is fantastic\n"
     ]
    }
   ],
   "source": [
    "def myfunc():\n",
    "    global x # Global Keyword\n",
    "    x = \"fantastic\"\n",
    "\n",
    "myfunc()\n",
    "\n",
    "print(\"Python is \" + x)"
   ]
  },
  {
   "cell_type": "code",
   "execution_count": 22,
   "metadata": {},
   "outputs": [
    {
     "name": "stdout",
     "output_type": "stream",
     "text": [
      "Python is fantastic\n"
     ]
    }
   ],
   "source": [
    "x = \"awesome\"\n",
    "\n",
    "def myfunc():\n",
    "    global x\n",
    "    x = \"fantastic\"\n",
    "\n",
    "myfunc()\n",
    "\n",
    "print(\"Python is \" + x)"
   ]
  },
  {
   "cell_type": "code",
   "execution_count": null,
   "metadata": {},
   "outputs": [],
   "source": []
  }
 ],
 "metadata": {
  "kernelspec": {
   "display_name": "Python [conda env:learn-env] *",
   "language": "python",
   "name": "conda-env-learn-env-py"
  },
  "language_info": {
   "codemirror_mode": {
    "name": "ipython",
    "version": 3
   },
   "file_extension": ".py",
   "mimetype": "text/x-python",
   "name": "python",
   "nbconvert_exporter": "python",
   "pygments_lexer": "ipython3",
   "version": "3.6.9"
  },
  "toc": {
   "base_numbering": 1,
   "nav_menu": {},
   "number_sections": true,
   "sideBar": true,
   "skip_h1_title": false,
   "title_cell": "Table of Contents",
   "title_sidebar": "Contents",
   "toc_cell": true,
   "toc_position": {},
   "toc_section_display": true,
   "toc_window_display": false
  }
 },
 "nbformat": 4,
 "nbformat_minor": 2
}
