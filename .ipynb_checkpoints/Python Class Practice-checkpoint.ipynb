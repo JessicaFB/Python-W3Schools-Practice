{
 "cells": [
  {
   "cell_type": "markdown",
   "metadata": {
    "toc": true
   },
   "source": [
    "<h1>Table of Contents<span class=\"tocSkip\"></span></h1>\n",
    "<div class=\"toc\"><ul class=\"toc-item\"></ul></div>"
   ]
  },
  {
   "cell_type": "code",
   "execution_count": 4,
   "metadata": {},
   "outputs": [
    {
     "name": "stdout",
     "output_type": "stream",
     "text": [
      "5 10\n",
      "100 100\n",
      "<__main__.MyClass object at 0x7fa3bf2dcf28>\n",
      "<__main__.MyClass object at 0x7fa3bf2dcf60>\n"
     ]
    }
   ],
   "source": [
    "class MyClass:\n",
    "    \n",
    "    def __init__(self, x = 100, y = 100):\n",
    "        self.x = x\n",
    "        self.y = y\n",
    "        \n",
    "a = MyClass(5, 10)\n",
    "b = MyClass()\n",
    "\n",
    "\n",
    "print(a.x, a.y)\n",
    "print(b.x, b.y)\n",
    "print(a)\n",
    "print(b)"
   ]
  },
  {
   "cell_type": "code",
   "execution_count": 10,
   "metadata": {},
   "outputs": [
    {
     "name": "stdout",
     "output_type": "stream",
     "text": [
      "<__main__.Person object at 0x7fa3bf484b38>\n",
      "John Rockefeller\n",
      "John\n",
      "Rockefeller\n"
     ]
    }
   ],
   "source": [
    "class Person:\n",
    "    \n",
    "    def __init__(self, name, age):\n",
    "        self.name = name\n",
    "        self.age = age\n",
    "        \n",
    "    def lastname(self):\n",
    "        fname, lname = self.name.split()\n",
    "        return lname\n",
    "    \n",
    "    def firstname(self):\n",
    "        fname, lname = self.name.split()\n",
    "        return fname        \n",
    "    \n",
    "p1 = Person(\"John Rockefeller\", 36)\n",
    "print(p1)\n",
    "print(p1.name)\n",
    "print(p1.firstname())\n",
    "print(p1.lastname())"
   ]
  },
  {
   "cell_type": "code",
   "execution_count": 27,
   "metadata": {},
   "outputs": [],
   "source": [
    "class queue:\n",
    "    \n",
    "    def __init__(self):\n",
    "        self.q = []\n",
    "        \n",
    "    def enque(self, x):\n",
    "        self.q.insert(0, x)\n",
    "        \n",
    "    def deque(self):\n",
    "        if len(self.q) > 0:\n",
    "            return self.q.pop()\n",
    "        else:\n",
    "            return \"queue is empty\"\n",
    "    \n",
    "    def size(self):\n",
    "        return len(self.q)"
   ]
  },
  {
   "cell_type": "code",
   "execution_count": 28,
   "metadata": {},
   "outputs": [
    {
     "name": "stdout",
     "output_type": "stream",
     "text": [
      "1\n",
      "2\n",
      "3\n",
      "queue is empty\n"
     ]
    }
   ],
   "source": [
    "q1 = queue()\n",
    "q1.enque(1)\n",
    "q1.enque(2)\n",
    "q1.enque(3)\n",
    "print(q1.deque())\n",
    "print(q1.deque())\n",
    "print(q1.deque())\n",
    "print(q1.deque())"
   ]
  },
  {
   "cell_type": "code",
   "execution_count": null,
   "metadata": {},
   "outputs": [],
   "source": []
  }
 ],
 "metadata": {
  "kernelspec": {
   "display_name": "Python [conda env:learn-env] *",
   "language": "python",
   "name": "conda-env-learn-env-py"
  },
  "language_info": {
   "codemirror_mode": {
    "name": "ipython",
    "version": 3
   },
   "file_extension": ".py",
   "mimetype": "text/x-python",
   "name": "python",
   "nbconvert_exporter": "python",
   "pygments_lexer": "ipython3",
   "version": "3.6.9"
  },
  "toc": {
   "base_numbering": 1,
   "nav_menu": {},
   "number_sections": true,
   "sideBar": true,
   "skip_h1_title": false,
   "title_cell": "Table of Contents",
   "title_sidebar": "Contents",
   "toc_cell": true,
   "toc_position": {},
   "toc_section_display": true,
   "toc_window_display": false
  }
 },
 "nbformat": 4,
 "nbformat_minor": 2
}
